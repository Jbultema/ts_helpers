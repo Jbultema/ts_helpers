{
 "cells": [
  {
   "cell_type": "code",
   "execution_count": 1,
   "id": "23c2afb1-2356-41af-9fe2-6f8bcf306363",
   "metadata": {},
   "outputs": [],
   "source": [
    "import pandas as pd\n",
    "import numpy as np\n",
    "from glob import glob\n",
    "from ts_helper_functions1 import *"
   ]
  },
  {
   "cell_type": "markdown",
   "id": "e5dd3c4b-19b7-4357-bc25-ae0e8e1dca07",
   "metadata": {},
   "source": [
    "# Brief tutorial on use of ts_helpers functions"
   ]
  },
  {
   "cell_type": "markdown",
   "id": "67826545-be35-466e-8a1d-1022dc8dc7ef",
   "metadata": {},
   "source": [
    "### Import a dataset to test with"
   ]
  },
  {
   "cell_type": "code",
   "execution_count": 3,
   "id": "43003675-b790-46d8-a520-1763ab2c607d",
   "metadata": {},
   "outputs": [
    {
     "data": {
      "text/html": [
       "<div>\n",
       "<style scoped>\n",
       "    .dataframe tbody tr th:only-of-type {\n",
       "        vertical-align: middle;\n",
       "    }\n",
       "\n",
       "    .dataframe tbody tr th {\n",
       "        vertical-align: top;\n",
       "    }\n",
       "\n",
       "    .dataframe thead th {\n",
       "        text-align: right;\n",
       "    }\n",
       "</style>\n",
       "<table border=\"1\" class=\"dataframe\">\n",
       "  <thead>\n",
       "    <tr style=\"text-align: right;\">\n",
       "      <th></th>\n",
       "      <th>Date</th>\n",
       "      <th>Day</th>\n",
       "      <th>Orders</th>\n",
       "      <th>CST Tickets</th>\n",
       "      <th>All Tickets</th>\n",
       "      <th>Unique Requesters</th>\n",
       "      <th>Average Time/CST Ticket</th>\n",
       "      <th>Revenue</th>\n",
       "      <th>Tax</th>\n",
       "      <th>Shipping</th>\n",
       "      <th>Net</th>\n",
       "      <th>Week</th>\n",
       "      <th>Orders/Week</th>\n",
       "      <th>CST Tickets/Week</th>\n",
       "      <th>All Tickets/Week</th>\n",
       "      <th>Unique Requesters/Week</th>\n",
       "      <th>Avg Time/Ticket/Week</th>\n",
       "      <th>Net/Week</th>\n",
       "    </tr>\n",
       "  </thead>\n",
       "  <tbody>\n",
       "    <tr>\n",
       "      <th>0</th>\n",
       "      <td>2016-01-01</td>\n",
       "      <td>NaN</td>\n",
       "      <td>251.0</td>\n",
       "      <td>12.0</td>\n",
       "      <td>42.0</td>\n",
       "      <td>8.0</td>\n",
       "      <td>2398.333333</td>\n",
       "      <td>23400.05</td>\n",
       "      <td>0.0</td>\n",
       "      <td>734.60</td>\n",
       "      <td>22665.45</td>\n",
       "      <td>NaN</td>\n",
       "      <td>NaN</td>\n",
       "      <td>NaN</td>\n",
       "      <td>NaN</td>\n",
       "      <td>NaN</td>\n",
       "      <td>NaN</td>\n",
       "      <td>NaN</td>\n",
       "    </tr>\n",
       "    <tr>\n",
       "      <th>1</th>\n",
       "      <td>2016-01-02</td>\n",
       "      <td>NaN</td>\n",
       "      <td>288.0</td>\n",
       "      <td>15.0</td>\n",
       "      <td>52.0</td>\n",
       "      <td>12.0</td>\n",
       "      <td>508.733333</td>\n",
       "      <td>23513.11</td>\n",
       "      <td>0.0</td>\n",
       "      <td>1092.10</td>\n",
       "      <td>22421.01</td>\n",
       "      <td>NaN</td>\n",
       "      <td>NaN</td>\n",
       "      <td>NaN</td>\n",
       "      <td>NaN</td>\n",
       "      <td>NaN</td>\n",
       "      <td>NaN</td>\n",
       "      <td>NaN</td>\n",
       "    </tr>\n",
       "    <tr>\n",
       "      <th>2</th>\n",
       "      <td>2016-01-03</td>\n",
       "      <td>NaN</td>\n",
       "      <td>327.0</td>\n",
       "      <td>35.0</td>\n",
       "      <td>62.0</td>\n",
       "      <td>18.0</td>\n",
       "      <td>241.485714</td>\n",
       "      <td>16849.05</td>\n",
       "      <td>0.0</td>\n",
       "      <td>905.65</td>\n",
       "      <td>15943.40</td>\n",
       "      <td>NaN</td>\n",
       "      <td>NaN</td>\n",
       "      <td>NaN</td>\n",
       "      <td>NaN</td>\n",
       "      <td>NaN</td>\n",
       "      <td>NaN</td>\n",
       "      <td>NaN</td>\n",
       "    </tr>\n",
       "    <tr>\n",
       "      <th>3</th>\n",
       "      <td>2016-01-04</td>\n",
       "      <td>1.0</td>\n",
       "      <td>845.0</td>\n",
       "      <td>47.0</td>\n",
       "      <td>299.0</td>\n",
       "      <td>96.0</td>\n",
       "      <td>435.659574</td>\n",
       "      <td>59523.53</td>\n",
       "      <td>0.0</td>\n",
       "      <td>2210.35</td>\n",
       "      <td>57313.18</td>\n",
       "      <td>1.0</td>\n",
       "      <td>4215.0</td>\n",
       "      <td>564.0</td>\n",
       "      <td>1683.0</td>\n",
       "      <td>535.0</td>\n",
       "      <td>274.882979</td>\n",
       "      <td>384785.07</td>\n",
       "    </tr>\n",
       "    <tr>\n",
       "      <th>4</th>\n",
       "      <td>2016-01-05</td>\n",
       "      <td>2.0</td>\n",
       "      <td>707.0</td>\n",
       "      <td>150.0</td>\n",
       "      <td>260.0</td>\n",
       "      <td>78.0</td>\n",
       "      <td>288.700000</td>\n",
       "      <td>78214.64</td>\n",
       "      <td>0.0</td>\n",
       "      <td>2053.60</td>\n",
       "      <td>76161.04</td>\n",
       "      <td>NaN</td>\n",
       "      <td>NaN</td>\n",
       "      <td>NaN</td>\n",
       "      <td>NaN</td>\n",
       "      <td>NaN</td>\n",
       "      <td>NaN</td>\n",
       "      <td>NaN</td>\n",
       "    </tr>\n",
       "  </tbody>\n",
       "</table>\n",
       "</div>"
      ],
      "text/plain": [
       "        Date  Day  Orders  CST Tickets  All Tickets  Unique Requesters  \\\n",
       "0 2016-01-01  NaN   251.0         12.0         42.0                8.0   \n",
       "1 2016-01-02  NaN   288.0         15.0         52.0               12.0   \n",
       "2 2016-01-03  NaN   327.0         35.0         62.0               18.0   \n",
       "3 2016-01-04  1.0   845.0         47.0        299.0               96.0   \n",
       "4 2016-01-05  2.0   707.0        150.0        260.0               78.0   \n",
       "\n",
       "   Average Time/CST Ticket   Revenue  Tax  Shipping       Net  Week  \\\n",
       "0              2398.333333  23400.05  0.0    734.60  22665.45   NaN   \n",
       "1               508.733333  23513.11  0.0   1092.10  22421.01   NaN   \n",
       "2               241.485714  16849.05  0.0    905.65  15943.40   NaN   \n",
       "3               435.659574  59523.53  0.0   2210.35  57313.18   1.0   \n",
       "4               288.700000  78214.64  0.0   2053.60  76161.04   NaN   \n",
       "\n",
       "   Orders/Week  CST Tickets/Week  All Tickets/Week  Unique Requesters/Week  \\\n",
       "0          NaN               NaN               NaN                     NaN   \n",
       "1          NaN               NaN               NaN                     NaN   \n",
       "2          NaN               NaN               NaN                     NaN   \n",
       "3       4215.0             564.0            1683.0                   535.0   \n",
       "4          NaN               NaN               NaN                     NaN   \n",
       "\n",
       "   Avg Time/Ticket/Week   Net/Week  \n",
       "0                   NaN        NaN  \n",
       "1                   NaN        NaN  \n",
       "2                   NaN        NaN  \n",
       "3            274.882979  384785.07  \n",
       "4                   NaN        NaN  "
      ]
     },
     "execution_count": 3,
     "metadata": {},
     "output_type": "execute_result"
    }
   ],
   "source": [
    "df = pd.read_excel(files[0], sheet_name= 'Daily', parse_dates= ['Date'])\n",
    "df.head()"
   ]
  },
  {
   "cell_type": "code",
   "execution_count": 4,
   "id": "5a1de8ba-53cc-4bbd-b01e-dd68e0925e51",
   "metadata": {},
   "outputs": [
    {
     "name": "stdout",
     "output_type": "stream",
     "text": [
      "Help on function create_splits in module ts_helper_functions1:\n",
      "\n",
      "create_splits(df: pandas.core.frame.DataFrame, date_col: str, target: str, num_validations: int, training_duration: int, validation_duration: int, holdout: bool = True, gap: int = 0, series_id=False, specific_dates=False, split_pct=False, trim_leading_zeros: bool = True, trim_lagging_zeros: bool = True) -> dict\n",
      "    A function to create backtests for partitioning time_series modeling.\n",
      "    \n",
      "    Inputs:\n",
      "    ------\n",
      "    df: Pandas dataframe with training data\n",
      "    date_col: Name of primary-datetime column in dataframe\n",
      "    target: Name of target-column in dataframe\n",
      "    num_validations: Number of backtests to create (excluding holdout)\n",
      "    training_duration: Number of rows for the training data\n",
      "    validation_duration: Number of rows for the validation data\n",
      "    holdout: Bool, generate holdout with most recent data\n",
      "    gap: Number of rows between end of training data and start of validation\n",
      "    specific dates: Bool, or a list of tuples with \n",
      "        (training_start, training_stop, validation_start, validation_stop) for each backtest\n",
      "    split_pct: False or float. Percent of data to be used for training in training/validation-folds\n",
      "    trim_leading_zeros: controls if zero-target or missing-target values before first real-observation are removed\n",
      "    trim_leading_zeros: controls if zero-target or missing-target values after last real-observation are removed\n",
      "    \n",
      "        \n",
      "    Output:\n",
      "    ------\n",
      "    df_dict: nested dictionary of Pandas DataFrames. \n",
      "        Ex: {'backtest1': {'training': backtest1_training, 'validation': backtest1_validation}}\n",
      "\n"
     ]
    }
   ],
   "source": [
    "# help() function will show the doc string\n",
    "help(create_splits)"
   ]
  },
  {
   "cell_type": "markdown",
   "id": "88be6c50-e5b3-4630-9d4b-cac14418246f",
   "metadata": {},
   "source": [
    "## First use case: Duration-based\n",
    "- Define the duration of training and validation periods\n",
    "- Define the number of validations (i.e. backtests)\n",
    "- Define if a holdout is used, holdout will always be the most recent data\n",
    "- If you use a holdout, you will be (num_validations + 1) total partitions\n",
    "- You can choose to remove any leading/lagging null- or zero- target rows"
   ]
  },
  {
   "cell_type": "code",
   "execution_count": 5,
   "id": "09fd9fc9-99b7-4885-9741-d85e82f0982f",
   "metadata": {},
   "outputs": [
    {
     "name": "stderr",
     "output_type": "stream",
     "text": [
      "Creating Backtests: 100%|██████████| 2/2 [00:00<00:00, 117.37it/s]"
     ]
    },
    {
     "name": "stdout",
     "output_type": "stream",
     "text": [
      "Leading bad rows removed:  1\n",
      "Lagging bad rows removed:  244\n",
      "*** Holdout Created ***\n",
      "*** Backtest1 Created ***\n"
     ]
    },
    {
     "name": "stderr",
     "output_type": "stream",
     "text": [
      "\n"
     ]
    }
   ],
   "source": [
    "df_splits = create_splits(df= df,\n",
    "             date_col= 'Date',\n",
    "             target= 'CST Tickets',\n",
    "             num_validations= 1,\n",
    "             holdout= True,\n",
    "             training_duration= 365*3,\n",
    "             validation_duration= 90,\n",
    "             gap= 0,\n",
    "             specific_dates = False,\n",
    "             split_pct= False,\n",
    "             trim_leading_zeros= True,\n",
    "             trim_lagging_zeros= True)"
   ]
  },
  {
   "cell_type": "code",
   "execution_count": 6,
   "id": "a8e92c11-21f5-4390-b1ab-74c386193b4c",
   "metadata": {},
   "outputs": [
    {
     "data": {
      "text/plain": [
       "dict_keys(['stats', 'training', 'validation'])"
      ]
     },
     "execution_count": 6,
     "metadata": {},
     "output_type": "execute_result"
    }
   ],
   "source": [
    "# the output of the function is a dict\n",
    "df_splits.keys()"
   ]
  },
  {
   "cell_type": "code",
   "execution_count": 7,
   "id": "e091c094-80d4-4490-bdab-e909a80e1f48",
   "metadata": {},
   "outputs": [
    {
     "data": {
      "text/plain": [
       "{'date_col': 'Date',\n",
       " 'target': 'CST Tickets',\n",
       " 'series_id': False,\n",
       " 'rows': 1950,\n",
       " 'columns': 18,\n",
       " 'min_target': 1.0,\n",
       " 'max_target': 8534.0,\n",
       " 'start_date': Timestamp('2016-01-02 00:00:00'),\n",
       " 'end_date': Timestamp('2021-05-04 00:00:00'),\n",
       " 'timespan': Timedelta('1949 days 00:00:00'),\n",
       " 'median_timestep': Timedelta('1 days 00:00:00'),\n",
       " 'min_timestep': Timedelta('1 days 00:00:00'),\n",
       " 'max_timestep': Timedelta('1 days 00:00:00'),\n",
       " 'time_step': 1.0,\n",
       " 'series_time_steps': nan}"
      ]
     },
     "execution_count": 7,
     "metadata": {},
     "output_type": "execute_result"
    }
   ],
   "source": [
    "# stats contains basic dataset stats on the original dataframe\n",
    "df_splits['stats']"
   ]
  },
  {
   "cell_type": "code",
   "execution_count": 8,
   "id": "fc09c530-4c80-4c7d-b700-6ef1fdf44f18",
   "metadata": {},
   "outputs": [
    {
     "data": {
      "text/plain": [
       "dict_keys(['holdout', 'backtest1'])"
      ]
     },
     "execution_count": 8,
     "metadata": {},
     "output_type": "execute_result"
    }
   ],
   "source": [
    "# the 'training' key contains the datasets for training\n",
    "df_splits['training'].keys()"
   ]
  },
  {
   "cell_type": "code",
   "execution_count": 9,
   "id": "b048fe4c-e629-4b03-bb3d-430740397141",
   "metadata": {},
   "outputs": [
    {
     "data": {
      "text/html": [
       "<div>\n",
       "<style scoped>\n",
       "    .dataframe tbody tr th:only-of-type {\n",
       "        vertical-align: middle;\n",
       "    }\n",
       "\n",
       "    .dataframe tbody tr th {\n",
       "        vertical-align: top;\n",
       "    }\n",
       "\n",
       "    .dataframe thead th {\n",
       "        text-align: right;\n",
       "    }\n",
       "</style>\n",
       "<table border=\"1\" class=\"dataframe\">\n",
       "  <thead>\n",
       "    <tr style=\"text-align: right;\">\n",
       "      <th></th>\n",
       "      <th>Date</th>\n",
       "      <th>Day</th>\n",
       "      <th>Orders</th>\n",
       "      <th>CST Tickets</th>\n",
       "      <th>All Tickets</th>\n",
       "      <th>Unique Requesters</th>\n",
       "      <th>Average Time/CST Ticket</th>\n",
       "      <th>Revenue</th>\n",
       "      <th>Tax</th>\n",
       "      <th>Shipping</th>\n",
       "      <th>Net</th>\n",
       "      <th>Week</th>\n",
       "      <th>Orders/Week</th>\n",
       "      <th>CST Tickets/Week</th>\n",
       "      <th>All Tickets/Week</th>\n",
       "      <th>Unique Requesters/Week</th>\n",
       "      <th>Avg Time/Ticket/Week</th>\n",
       "      <th>Net/Week</th>\n",
       "    </tr>\n",
       "  </thead>\n",
       "  <tbody>\n",
       "    <tr>\n",
       "      <th>673</th>\n",
       "      <td>2017-11-04</td>\n",
       "      <td>307.0</td>\n",
       "      <td>1507.0</td>\n",
       "      <td>211.0</td>\n",
       "      <td>417.0</td>\n",
       "      <td>111.0</td>\n",
       "      <td>273.600000</td>\n",
       "      <td>158791.93</td>\n",
       "      <td>0.0</td>\n",
       "      <td>4666.60</td>\n",
       "      <td>154125.33</td>\n",
       "      <td>NaN</td>\n",
       "      <td>NaN</td>\n",
       "      <td>NaN</td>\n",
       "      <td>NaN</td>\n",
       "      <td>NaN</td>\n",
       "      <td>NaN</td>\n",
       "      <td>NaN</td>\n",
       "    </tr>\n",
       "    <tr>\n",
       "      <th>674</th>\n",
       "      <td>2017-11-05</td>\n",
       "      <td>308.0</td>\n",
       "      <td>2306.0</td>\n",
       "      <td>145.0</td>\n",
       "      <td>358.0</td>\n",
       "      <td>96.0</td>\n",
       "      <td>288.819444</td>\n",
       "      <td>107630.17</td>\n",
       "      <td>0.0</td>\n",
       "      <td>4321.85</td>\n",
       "      <td>103308.32</td>\n",
       "      <td>NaN</td>\n",
       "      <td>NaN</td>\n",
       "      <td>NaN</td>\n",
       "      <td>NaN</td>\n",
       "      <td>NaN</td>\n",
       "      <td>NaN</td>\n",
       "      <td>NaN</td>\n",
       "    </tr>\n",
       "    <tr>\n",
       "      <th>675</th>\n",
       "      <td>2017-11-06</td>\n",
       "      <td>309.0</td>\n",
       "      <td>4348.0</td>\n",
       "      <td>346.0</td>\n",
       "      <td>1792.0</td>\n",
       "      <td>307.0</td>\n",
       "      <td>485.027523</td>\n",
       "      <td>313053.90</td>\n",
       "      <td>0.0</td>\n",
       "      <td>9307.90</td>\n",
       "      <td>303746.00</td>\n",
       "      <td>45.0</td>\n",
       "      <td>22002.0</td>\n",
       "      <td>2064.0</td>\n",
       "      <td>7659.0</td>\n",
       "      <td>2550.0</td>\n",
       "      <td>524.066629</td>\n",
       "      <td>1739368.46</td>\n",
       "    </tr>\n",
       "  </tbody>\n",
       "</table>\n",
       "</div>"
      ],
      "text/plain": [
       "          Date    Day  Orders  CST Tickets  All Tickets  Unique Requesters  \\\n",
       "673 2017-11-04  307.0  1507.0        211.0        417.0              111.0   \n",
       "674 2017-11-05  308.0  2306.0        145.0        358.0               96.0   \n",
       "675 2017-11-06  309.0  4348.0        346.0       1792.0              307.0   \n",
       "\n",
       "     Average Time/CST Ticket    Revenue  Tax  Shipping        Net  Week  \\\n",
       "673               273.600000  158791.93  0.0   4666.60  154125.33   NaN   \n",
       "674               288.819444  107630.17  0.0   4321.85  103308.32   NaN   \n",
       "675               485.027523  313053.90  0.0   9307.90  303746.00  45.0   \n",
       "\n",
       "     Orders/Week  CST Tickets/Week  All Tickets/Week  Unique Requesters/Week  \\\n",
       "673          NaN               NaN               NaN                     NaN   \n",
       "674          NaN               NaN               NaN                     NaN   \n",
       "675      22002.0            2064.0            7659.0                  2550.0   \n",
       "\n",
       "     Avg Time/Ticket/Week    Net/Week  \n",
       "673                   NaN         NaN  \n",
       "674                   NaN         NaN  \n",
       "675            524.066629  1739368.46  "
      ]
     },
     "execution_count": 9,
     "metadata": {},
     "output_type": "execute_result"
    }
   ],
   "source": [
    "backtest1_training = df_splits['training']['backtest1']\n",
    "backtest1_training.head(3)"
   ]
  },
  {
   "cell_type": "code",
   "execution_count": 10,
   "id": "ae2d9b39-1488-47f4-bb97-b86cdef1c8b4",
   "metadata": {},
   "outputs": [
    {
     "data": {
      "text/plain": [
       "dict_keys(['holdout', 'backtest1'])"
      ]
     },
     "execution_count": 10,
     "metadata": {},
     "output_type": "execute_result"
    }
   ],
   "source": [
    "# the 'validation' key contains the matched datasets for validation\n",
    "df_splits['validation'].keys()"
   ]
  },
  {
   "cell_type": "code",
   "execution_count": 11,
   "id": "e4b7a599-f4c5-4cb8-be3a-dae1889543d0",
   "metadata": {},
   "outputs": [
    {
     "data": {
      "text/html": [
       "<div>\n",
       "<style scoped>\n",
       "    .dataframe tbody tr th:only-of-type {\n",
       "        vertical-align: middle;\n",
       "    }\n",
       "\n",
       "    .dataframe tbody tr th {\n",
       "        vertical-align: top;\n",
       "    }\n",
       "\n",
       "    .dataframe thead th {\n",
       "        text-align: right;\n",
       "    }\n",
       "</style>\n",
       "<table border=\"1\" class=\"dataframe\">\n",
       "  <thead>\n",
       "    <tr style=\"text-align: right;\">\n",
       "      <th></th>\n",
       "      <th>Date</th>\n",
       "      <th>Day</th>\n",
       "      <th>Orders</th>\n",
       "      <th>CST Tickets</th>\n",
       "      <th>All Tickets</th>\n",
       "      <th>Unique Requesters</th>\n",
       "      <th>Average Time/CST Ticket</th>\n",
       "      <th>Revenue</th>\n",
       "      <th>Tax</th>\n",
       "      <th>Shipping</th>\n",
       "      <th>Net</th>\n",
       "      <th>Week</th>\n",
       "      <th>Orders/Week</th>\n",
       "      <th>CST Tickets/Week</th>\n",
       "      <th>All Tickets/Week</th>\n",
       "      <th>Unique Requesters/Week</th>\n",
       "      <th>Avg Time/Ticket/Week</th>\n",
       "      <th>Net/Week</th>\n",
       "    </tr>\n",
       "  </thead>\n",
       "  <tbody>\n",
       "    <tr>\n",
       "      <th>1769</th>\n",
       "      <td>2020-11-04</td>\n",
       "      <td>311.0</td>\n",
       "      <td>7319.0</td>\n",
       "      <td>1365.0</td>\n",
       "      <td>3159.0</td>\n",
       "      <td>1235.0</td>\n",
       "      <td>253.631032</td>\n",
       "      <td>672933.36</td>\n",
       "      <td>37806.07</td>\n",
       "      <td>24879.53</td>\n",
       "      <td>610247.76</td>\n",
       "      <td>NaN</td>\n",
       "      <td>NaN</td>\n",
       "      <td>NaN</td>\n",
       "      <td>NaN</td>\n",
       "      <td>NaN</td>\n",
       "      <td>NaN</td>\n",
       "      <td>NaN</td>\n",
       "    </tr>\n",
       "    <tr>\n",
       "      <th>1770</th>\n",
       "      <td>2020-11-05</td>\n",
       "      <td>312.0</td>\n",
       "      <td>7206.0</td>\n",
       "      <td>1364.0</td>\n",
       "      <td>3151.0</td>\n",
       "      <td>1110.0</td>\n",
       "      <td>280.312453</td>\n",
       "      <td>670356.42</td>\n",
       "      <td>37210.94</td>\n",
       "      <td>24001.72</td>\n",
       "      <td>609143.76</td>\n",
       "      <td>NaN</td>\n",
       "      <td>NaN</td>\n",
       "      <td>NaN</td>\n",
       "      <td>NaN</td>\n",
       "      <td>NaN</td>\n",
       "      <td>NaN</td>\n",
       "      <td>NaN</td>\n",
       "    </tr>\n",
       "    <tr>\n",
       "      <th>1771</th>\n",
       "      <td>2020-11-06</td>\n",
       "      <td>313.0</td>\n",
       "      <td>6610.0</td>\n",
       "      <td>1205.0</td>\n",
       "      <td>2760.0</td>\n",
       "      <td>984.0</td>\n",
       "      <td>250.047904</td>\n",
       "      <td>617031.50</td>\n",
       "      <td>35037.12</td>\n",
       "      <td>22619.52</td>\n",
       "      <td>559374.86</td>\n",
       "      <td>NaN</td>\n",
       "      <td>NaN</td>\n",
       "      <td>NaN</td>\n",
       "      <td>NaN</td>\n",
       "      <td>NaN</td>\n",
       "      <td>NaN</td>\n",
       "      <td>NaN</td>\n",
       "    </tr>\n",
       "  </tbody>\n",
       "</table>\n",
       "</div>"
      ],
      "text/plain": [
       "           Date    Day  Orders  CST Tickets  All Tickets  Unique Requesters  \\\n",
       "1769 2020-11-04  311.0  7319.0       1365.0       3159.0             1235.0   \n",
       "1770 2020-11-05  312.0  7206.0       1364.0       3151.0             1110.0   \n",
       "1771 2020-11-06  313.0  6610.0       1205.0       2760.0              984.0   \n",
       "\n",
       "      Average Time/CST Ticket    Revenue       Tax  Shipping        Net  Week  \\\n",
       "1769               253.631032  672933.36  37806.07  24879.53  610247.76   NaN   \n",
       "1770               280.312453  670356.42  37210.94  24001.72  609143.76   NaN   \n",
       "1771               250.047904  617031.50  35037.12  22619.52  559374.86   NaN   \n",
       "\n",
       "      Orders/Week  CST Tickets/Week  All Tickets/Week  Unique Requesters/Week  \\\n",
       "1769          NaN               NaN               NaN                     NaN   \n",
       "1770          NaN               NaN               NaN                     NaN   \n",
       "1771          NaN               NaN               NaN                     NaN   \n",
       "\n",
       "      Avg Time/Ticket/Week  Net/Week  \n",
       "1769                   NaN       NaN  \n",
       "1770                   NaN       NaN  \n",
       "1771                   NaN       NaN  "
      ]
     },
     "execution_count": 11,
     "metadata": {},
     "output_type": "execute_result"
    }
   ],
   "source": [
    "backtest1_validation = df_splits['validation']['backtest1']\n",
    "backtest1_validation.head(3)"
   ]
  },
  {
   "cell_type": "code",
   "execution_count": 12,
   "id": "5d610926-580e-4e37-9c3c-9d7972004cc3",
   "metadata": {},
   "outputs": [
    {
     "name": "stdout",
     "output_type": "stream",
     "text": [
      "holdout training start:  2018-02-03 00:00:00\n",
      "holdout training end:  2021-02-02 00:00:00\n",
      "holdout validation start:  2021-02-03 00:00:00\n",
      "holdout validation end:  2021-05-04 00:00:00 \n",
      "\n",
      "backtest1 training start:  2017-11-04 00:00:00\n",
      "backtest1 training end:  2020-11-03 00:00:00\n",
      "backtest1 validation start:  2020-11-04 00:00:00\n",
      "backtest1 validation end:  2021-02-02 00:00:00\n"
     ]
    }
   ],
   "source": [
    "print('holdout training start: ', df_splits['training']['holdout']['Date'].min())\n",
    "print('holdout training end: ', df_splits['training']['holdout']['Date'].max())\n",
    "print('holdout validation start: ', df_splits['validation']['holdout']['Date'].min())\n",
    "print('holdout validation end: ', df_splits['validation']['holdout']['Date'].max(), \"\\n\")\n",
    "\n",
    "print('backtest1 training start: ', df_splits['training']['backtest1']['Date'].min())\n",
    "print('backtest1 training end: ', df_splits['training']['backtest1']['Date'].max())\n",
    "print('backtest1 validation start: ', df_splits['validation']['backtest1']['Date'].min())\n",
    "print('backtest1 validation end: ', df_splits['validation']['backtest1']['Date'].max())"
   ]
  },
  {
   "cell_type": "markdown",
   "id": "c6dafcd5-4f27-422e-9fd0-0573b746e4a4",
   "metadata": {},
   "source": [
    "## Second use case: Explicitly defined dates\n",
    "- Define the start and end for training and validation as a list of tuples ex. [(tuple1), (tuple2)]\n",
    "- Each tuple corresponds to holdout or backtest partition: (training-start, training-end, validation-start, validation-end)\n",
    "- Define the number of total partitions (holdout + backtests) (needs to match with length of list)\n",
    "- Define if a holdout is used, holdout will always be the first entry in the list of tuples"
   ]
  },
  {
   "cell_type": "code",
   "execution_count": 13,
   "id": "4b6d6cbf-c8d2-462d-9777-1fa7f95187c7",
   "metadata": {},
   "outputs": [],
   "source": [
    "# dates can be defined as strings or datetime type objects\n",
    "date_splits = [('2018-02-03', '2021-02-02', '2021-02-03', '2021-05-04'),\n",
    "              ('2017-11-04', '2020-11-03', '2020-11-04', '2021-02-02')]"
   ]
  },
  {
   "cell_type": "code",
   "execution_count": 14,
   "id": "a07604ae-bd02-4db4-9d1c-c95354215c79",
   "metadata": {},
   "outputs": [
    {
     "name": "stderr",
     "output_type": "stream",
     "text": [
      "Creating Backtests: 100%|██████████| 2/2 [00:00<00:00, 134.69it/s]"
     ]
    },
    {
     "name": "stdout",
     "output_type": "stream",
     "text": [
      "Leading bad rows removed:  1\n",
      "Lagging bad rows removed:  244\n",
      "*** Holdout Created ***\n",
      "*** Backtest1 Created ***\n"
     ]
    },
    {
     "name": "stderr",
     "output_type": "stream",
     "text": [
      "\n"
     ]
    }
   ],
   "source": [
    "df_splits = create_splits(df= df,\n",
    "             date_col= 'Date',\n",
    "             target= 'CST Tickets',\n",
    "             num_validations= 1,\n",
    "             holdout= True,\n",
    "             training_duration= 365*3,\n",
    "             validation_duration= 90,\n",
    "             gap= 0,\n",
    "             specific_dates = date_splits,\n",
    "             split_pct= False)"
   ]
  },
  {
   "cell_type": "code",
   "execution_count": 15,
   "id": "19df6868-6c63-4775-9d93-4b30d1050de9",
   "metadata": {},
   "outputs": [
    {
     "name": "stdout",
     "output_type": "stream",
     "text": [
      "holdout training start:  2018-02-03 00:00:00\n",
      "holdout training end:  2021-02-02 00:00:00\n",
      "holdout validation start:  2021-02-03 00:00:00\n",
      "holdout validation end:  2021-05-04 00:00:00 \n",
      "\n",
      "backtest1 training start:  2017-11-04 00:00:00\n",
      "backtest1 training end:  2020-11-03 00:00:00\n",
      "backtest1 validation start:  2020-11-04 00:00:00\n",
      "backtest1 validation end:  2021-02-02 00:00:00\n"
     ]
    }
   ],
   "source": [
    "print('holdout training start: ', df_splits['training']['holdout']['Date'].min())\n",
    "print('holdout training end: ', df_splits['training']['holdout']['Date'].max())\n",
    "print('holdout validation start: ', df_splits['validation']['holdout']['Date'].min())\n",
    "print('holdout validation end: ', df_splits['validation']['holdout']['Date'].max(), \"\\n\")\n",
    "\n",
    "print('backtest1 training start: ', df_splits['training']['backtest1']['Date'].min())\n",
    "print('backtest1 training end: ', df_splits['training']['backtest1']['Date'].max())\n",
    "print('backtest1 validation start: ', df_splits['validation']['backtest1']['Date'].min())\n",
    "print('backtest1 validation end: ', df_splits['validation']['backtest1']['Date'].max())"
   ]
  },
  {
   "cell_type": "markdown",
   "id": "6878027f-cf6f-495a-a4a8-8afb472d03d0",
   "metadata": {},
   "source": [
    "## Third use: Define a Percent for the split of training/validation\n",
    "- Provide a float that represents what percent of the data should be used for training \n",
    "- Define the number of backbests (use only 1 for split_pct)\n",
    "- Define if a holdout is used (don't use this for split_pct)\n",
    "\n",
    "#### Note: This use case is explicitly designed for the use of internal-splits for hyperparameter tuning. - \n",
    "- In brief, you actually want to split your training data (80/20 is a good default) and perform your hyperparameter tuning validation on the last 20% of training data. \n",
    "- You then select the best model/approach hyperparameters based on that training-split, and then test that on the actual validation that corresponds to the training. \n",
    "- It ensures that the validation is actually out-of-sample, and a truly fair comparison to performance on other validation folds using the same hyperparameters.\n",
    "- As a result, this split_pct is only desgined to generate a single validation/split"
   ]
  },
  {
   "cell_type": "code",
   "execution_count": 16,
   "id": "46d51314-0505-4287-abdb-9ddf01e6825f",
   "metadata": {},
   "outputs": [
    {
     "name": "stderr",
     "output_type": "stream",
     "text": [
      "Creating Backtests: 100%|██████████| 1/1 [00:00<00:00, 221.45it/s]"
     ]
    },
    {
     "name": "stdout",
     "output_type": "stream",
     "text": [
      "Leading bad rows removed:  1\n",
      "Lagging bad rows removed:  244\n",
      "*** Backtest1 Created ***\n"
     ]
    },
    {
     "name": "stderr",
     "output_type": "stream",
     "text": [
      "\n"
     ]
    }
   ],
   "source": [
    "df_splits = create_splits(df= df,\n",
    "             date_col= 'Date',\n",
    "             target= 'CST Tickets',\n",
    "             num_validations= 1,\n",
    "             holdout= False,\n",
    "             training_duration= 365*3,\n",
    "             validation_duration= 90,\n",
    "             gap= 0,\n",
    "             specific_dates = False,\n",
    "             split_pct= 0.8)"
   ]
  },
  {
   "cell_type": "code",
   "execution_count": 18,
   "id": "699c9d75-0de1-4a65-b037-c23359a63f23",
   "metadata": {},
   "outputs": [
    {
     "name": "stdout",
     "output_type": "stream",
     "text": [
      "backtest1 training start:  2016-01-02 00:00:00\n",
      "backtest1 training end:  2020-04-09 00:00:00\n",
      "backtest1 validation start:  2020-04-10 00:00:00\n",
      "backtest1 validation end:  2021-05-04 00:00:00\n"
     ]
    }
   ],
   "source": [
    "print('backtest1 training start: ', df_splits['training']['backtest1']['Date'].min())\n",
    "print('backtest1 training end: ', df_splits['training']['backtest1']['Date'].max())\n",
    "print('backtest1 validation start: ', df_splits['validation']['backtest1']['Date'].min())\n",
    "print('backtest1 validation end: ', df_splits['validation']['backtest1']['Date'].max())"
   ]
  }
 ],
 "metadata": {
  "kernelspec": {
   "display_name": "Python 3",
   "language": "python",
   "name": "python3"
  },
  "language_info": {
   "codemirror_mode": {
    "name": "ipython",
    "version": 3
   },
   "file_extension": ".py",
   "mimetype": "text/x-python",
   "name": "python",
   "nbconvert_exporter": "python",
   "pygments_lexer": "ipython3",
   "version": "3.8.5"
  }
 },
 "nbformat": 4,
 "nbformat_minor": 5
}
